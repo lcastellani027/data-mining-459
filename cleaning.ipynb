{
 "cells": [
  {
   "cell_type": "code",
   "id": "initial_id",
   "metadata": {
    "collapsed": true,
    "ExecuteTime": {
     "end_time": "2025-10-12T06:07:53.304907Z",
     "start_time": "2025-10-12T06:07:53.278317Z"
    }
   },
   "source": [
    "import pandas as pd\n",
    "import numpy as np\n",
    "import matplotlib.pyplot as plt\n",
    "from sklearn.preprocessing import MinMaxScaler\n",
    "from sklearn.model_selection import train_test_split\n",
    "\n",
    "data = pd.read_csv(\"online_shoppers_intention.csv\")\n",
    "\n",
    "cat_cols = ['Month', 'OperatingSystems', 'Browser', 'Region',\n",
    "                    'TrafficType', 'VisitorType', 'Weekend']\n",
    "\n",
    "num_cols = ['Administrative', 'Administrative_Duration', 'Informational',\n",
    "       'Informational_Duration', 'ProductRelated', 'ProductRelated_Duration',\n",
    "       'BounceRates', 'ExitRates', 'PageValues', 'SpecialDay']\n",
    "\n",
    "categorical = data[cat_cols]\n",
    "numerical = data[num_cols + ['Revenue']]\n",
    "\n",
    "\n"
   ],
   "outputs": [],
   "execution_count": 57
  },
  {
   "metadata": {
    "ExecuteTime": {
     "end_time": "2025-10-12T06:07:53.336088Z",
     "start_time": "2025-10-12T06:07:53.309357Z"
    }
   },
   "cell_type": "code",
   "source": [
    "scaler = MinMaxScaler()\n",
    "\n",
    "numerical_normalized = numerical.copy()\n",
    "\n",
    "categorical_one_hot = categorical.astype(str)\n",
    "categorical_one_hot = pd.get_dummies(categorical_one_hot).join(data['Revenue']) #onehot encode, join revenue after to avoid one_hot encoding class column\n",
    "numerical_normalized[num_cols] = pd.DataFrame(scaler.fit_transform(numerical_normalized[num_cols])) #normalize numericals\n",
    "\n",
    "newdata = categorical_one_hot.join(numerical_normalized[num_cols])"
   ],
   "id": "eaea6a0a9df5cf6d",
   "outputs": [],
   "execution_count": 58
  },
  {
   "metadata": {
    "ExecuteTime": {
     "end_time": "2025-10-12T06:07:53.360998Z",
     "start_time": "2025-10-12T06:07:53.358944Z"
    }
   },
   "cell_type": "code",
   "source": "#newdata.to_csv(\"test.csv\", index=False)",
   "id": "12720135c2023e35",
   "outputs": [],
   "execution_count": 59
  },
  {
   "metadata": {
    "ExecuteTime": {
     "end_time": "2025-10-12T06:08:50.832840Z",
     "start_time": "2025-10-12T06:08:50.829005Z"
    }
   },
   "cell_type": "code",
   "source": [
    "def makeFreqGraph(df, col):\n",
    "    # df (pd.Dataframe) -> dataset\n",
    "    # col (str) -> column to make graph of\n",
    "    if df[col].dtype == 'float64': #if float make a histogram to capture generic trend\n",
    "        plt.hist(df[col])\n",
    "    elif df[col].dtype == 'bool':\n",
    "        df[col].value_counts().plot(kind='bar')\n",
    "    else: #otherwise plot exact bars\n",
    "        df = df.groupby(by=[col]).size().to_frame('count').reset_index()\n",
    "        plt.bar(df[col], df['count'])\n",
    "    plt.title(\"Frequencies of \" + col)\n",
    "    plt.xlabel(col)\n",
    "    plt.ylabel(\"Frequency\")\n",
    "    plt.show()"
   ],
   "id": "feaf0e390eb31d04",
   "outputs": [],
   "execution_count": 66
  },
  {
   "metadata": {
    "ExecuteTime": {
     "end_time": "2025-10-12T06:08:51.466985Z",
     "start_time": "2025-10-12T06:08:51.372162Z"
    }
   },
   "cell_type": "code",
   "source": "makeFreqGraph(newdata, \"BounceRates\")",
   "id": "157e07f2a9a5a441",
   "outputs": [
    {
     "data": {
      "text/plain": [
       "<Figure size 640x480 with 1 Axes>"
      ],
      "image/png": "[encoded data removed]"
     },
     "metadata": {},
     "output_type": "display_data"
    }
   ],
   "execution_count": 67
  },
  {
   "metadata": {
    "ExecuteTime": {
     "end_time": "2025-10-12T06:07:53.549345Z",
     "start_time": "2025-10-12T06:07:53.539364Z"
    }
   },
   "cell_type": "code",
   "source": "print(categorical.describe()) #uncleaned data\n",
   "id": "79c0c5d546c40d79",
   "outputs": [
    {
     "name": "stdout",
     "output_type": "stream",
     "text": [
      "       OperatingSystems       Browser        Region   TrafficType\n",
      "count      12330.000000  12330.000000  12330.000000  12330.000000\n",
      "mean           2.124006      2.357097      3.147364      4.069586\n",
      "std            0.911325      1.717277      2.401591      4.025169\n",
      "min            1.000000      1.000000      1.000000      1.000000\n",
      "25%            2.000000      2.000000      1.000000      2.000000\n",
      "50%            2.000000      2.000000      3.000000      2.000000\n",
      "75%            3.000000      2.000000      4.000000      4.000000\n",
      "max            8.000000     13.000000      9.000000     20.000000\n"
     ]
    }
   ],
   "execution_count": 62
  },
  {
   "metadata": {
    "ExecuteTime": {
     "end_time": "2025-10-12T06:07:53.645183Z",
     "start_time": "2025-10-12T06:07:53.621790Z"
    }
   },
   "cell_type": "code",
   "source": "print(numerical.describe()) #uncleaned data\n",
   "id": "1dcecb052283c422",
   "outputs": [
    {
     "name": "stdout",
     "output_type": "stream",
     "text": [
      "       Administrative  Administrative_Duration  Informational  \\\n",
      "count    12330.000000             12330.000000   12330.000000   \n",
      "mean         2.315166                80.818611       0.503569   \n",
      "std          3.321784               176.779107       1.270156   \n",
      "min          0.000000                 0.000000       0.000000   \n",
      "25%          0.000000                 0.000000       0.000000   \n",
      "50%          1.000000                 7.500000       0.000000   \n",
      "75%          4.000000                93.256250       0.000000   \n",
      "max         27.000000              3398.750000      24.000000   \n",
      "\n",
      "       Informational_Duration  ProductRelated  ProductRelated_Duration  \\\n",
      "count            12330.000000    12330.000000             12330.000000   \n",
      "mean                34.472398       31.731468              1194.746220   \n",
      "std                140.749294       44.475503              1913.669288   \n",
      "min                  0.000000        0.000000                 0.000000   \n",
      "25%                  0.000000        7.000000               184.137500   \n",
      "50%                  0.000000       18.000000               598.936905   \n",
      "75%                  0.000000       38.000000              1464.157214   \n",
      "max               2549.375000      705.000000             63973.522230   \n",
      "\n",
      "        BounceRates     ExitRates    PageValues    SpecialDay  \n",
      "count  12330.000000  12330.000000  12330.000000  12330.000000  \n",
      "mean       0.022191      0.043073      5.889258      0.061427  \n",
      "std        0.048488      0.048597     18.568437      0.198917  \n",
      "min        0.000000      0.000000      0.000000      0.000000  \n",
      "25%        0.000000      0.014286      0.000000      0.000000  \n",
      "50%        0.003112      0.025156      0.000000      0.000000  \n",
      "75%        0.016813      0.050000      0.000000      0.000000  \n",
      "max        0.200000      0.200000    361.763742      1.000000  \n"
     ]
    }
   ],
   "execution_count": 63
  },
  {
   "metadata": {
    "ExecuteTime": {
     "end_time": "2025-10-12T06:07:53.798516Z",
     "start_time": "2025-10-12T06:07:53.796030Z"
    }
   },
   "cell_type": "code",
   "source": "",
   "id": "dc825c90d3b4a3b8",
   "outputs": [],
   "execution_count": null
  }
 ],
 "metadata": {
  "kernelspec": {
   "display_name": "Python 3",
   "language": "python",
   "name": "python3"
  },
  "language_info": {
   "codemirror_mode": {
    "name": "ipython",
    "version": 2
   },
   "file_extension": ".py",
   "mimetype": "text/x-python",
   "name": "python",
   "nbconvert_exporter": "python",
   "pygments_lexer": "ipython2",
   "version": "2.7.6"
  }
 },
 "nbformat": 4,
 "nbformat_minor": 5
}
