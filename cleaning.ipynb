{
 "cells": [
  {
   "cell_type": "code",
   "id": "initial_id",
   "metadata": {
    "collapsed": true,
    "ExecuteTime": {
     "end_time": "2025-10-27T01:51:29.640845Z",
     "start_time": "2025-10-27T01:51:29.617983Z"
    }
   },
   "source": [
    "import pandas as pd\n",
    "import numpy as np\n",
    "import matplotlib.pyplot as plt\n",
    "from sklearn.preprocessing import MinMaxScaler\n",
    "from sklearn.model_selection import train_test_split\n",
    "from sklearn.cluster import KMeans\n",
    "\n",
    "data = pd.read_csv(\"online_shoppers_intention.csv\")"
   ],
   "outputs": [],
   "execution_count": 144
  },
  {
   "metadata": {
    "ExecuteTime": {
     "end_time": "2025-10-27T01:51:29.648543Z",
     "start_time": "2025-10-27T01:51:29.644624Z"
    }
   },
   "cell_type": "code",
   "source": [
    "def makeFreqGraph(df, col):\n",
    "    # df (pd.Dataframe) -> dataset\n",
    "    # col (str) -> column to make graph of\n",
    "    if df[col].dtype == 'float64': #if float make a histogram to capture generic trend\n",
    "        plt.hist(df[col])\n",
    "    elif df[col].dtype == 'bool':\n",
    "        df[col].value_counts().plot(kind='bar')\n",
    "    else: #otherwise plot exact bars\n",
    "        df = df.groupby(by=[col]).size().to_frame('count').reset_index()\n",
    "        plt.bar(df[col], df['count'])\n",
    "    plt.title(\"Frequencies of \" + col)\n",
    "    plt.xlabel(col)\n",
    "    plt.ylabel(\"Frequency\")\n",
    "    plt.show()"
   ],
   "id": "f273883581c74540",
   "outputs": [],
   "execution_count": 145
  },
  {
   "metadata": {
    "ExecuteTime": {
     "end_time": "2025-10-27T01:51:29.692729Z",
     "start_time": "2025-10-27T01:51:29.687895Z"
    }
   },
   "cell_type": "code",
   "source": [
    "#Create features\n",
    "\n",
    "data['Total_Duration'] = data['Administrative_Duration'] + data['Informational_Duration'] + data['ProductRelated_Duration']\n",
    "data['Average_Time_Per_Page'] = data['Total_Duration'] / (data['Administrative'] + data['Informational'] + data['ProductRelated'] + 1e-6)\n",
    "\n",
    "\n",
    "cat_cols = ['Month', 'OperatingSystems', 'Browser', 'Region',\n",
    "                    'TrafficType', 'VisitorType', 'Weekend']\n",
    "\n",
    "num_cols = ['Administrative', 'Administrative_Duration', 'Informational',\n",
    "       'Informational_Duration', 'ProductRelated', 'ProductRelated_Duration',\n",
    "       'BounceRates', 'ExitRates', 'PageValues', 'SpecialDay', 'Total_Duration', 'Average_Time_Per_Page']\n",
    "\n"
   ],
   "id": "18f340380f90b8a8",
   "outputs": [],
   "execution_count": 146
  },
  {
   "metadata": {
    "ExecuteTime": {
     "end_time": "2025-10-27T01:51:29.771805Z",
     "start_time": "2025-10-27T01:51:29.732674Z"
    }
   },
   "cell_type": "code",
   "source": [
    "#drop duplicates\n",
    "newdata = data.drop_duplicates().reset_index(drop=True)\n",
    "\n",
    "\n",
    "categorical = newdata[cat_cols]\n",
    "numerical = newdata[num_cols + ['Revenue']]\n",
    "\n",
    "#Normalize numericals\n",
    "scaler = MinMaxScaler()\n",
    "numerical_normalized = numerical.copy()\n",
    "numerical_normalized[num_cols] = pd.DataFrame(scaler.fit_transform(numerical_normalized[num_cols])) #normalize numericals, min-max here to keep values positive (0-1)\n",
    "\n",
    "#One-hot categoricals\n",
    "categorical_one_hot = categorical.astype(str)\n",
    "categorical_one_hot = pd.get_dummies(categorical_one_hot).join(data['Revenue']) #onehot encode, join revenue after to avoid one_hot encoding class column\n",
    "\n",
    "newdata = categorical_one_hot.join(numerical_normalized[num_cols])\n"
   ],
   "id": "eaea6a0a9df5cf6d",
   "outputs": [],
   "execution_count": 147
  },
  {
   "metadata": {
    "ExecuteTime": {
     "end_time": "2025-10-27T01:51:29.815374Z",
     "start_time": "2025-10-27T01:51:29.811036Z"
    }
   },
   "cell_type": "code",
   "source": "print(newdata.isnull().any())",
   "id": "d9e586289adfe7cc",
   "outputs": [
    {
     "name": "stdout",
     "output_type": "stream",
     "text": [
      "Month_Aug                False\n",
      "Month_Dec                False\n",
      "Month_Feb                False\n",
      "Month_Jul                False\n",
      "Month_June               False\n",
      "                         ...  \n",
      "ExitRates                False\n",
      "PageValues               False\n",
      "SpecialDay               False\n",
      "Total_Duration           False\n",
      "Average_Time_Per_Page    False\n",
      "Length: 78, dtype: bool\n"
     ]
    }
   ],
   "execution_count": 148
  },
  {
   "metadata": {
    "ExecuteTime": {
     "end_time": "2025-10-27T01:52:38.259973Z",
     "start_time": "2025-10-27T01:52:37.568289Z"
    }
   },
   "cell_type": "code",
   "source": [
    "inertias = []\n",
    "K_range = range(1, 11)\n",
    "\n",
    "for k in K_range:\n",
    "    kmeans = KMeans(n_clusters=k, random_state=42)\n",
    "    kmeans.fit(newdata)\n",
    "    inertias.append(kmeans.inertia_)  # total within-cluster sum of squares\n",
    "\n",
    "plt.plot(K_range, inertias, marker='o')\n",
    "plt.xlabel('k')\n",
    "plt.ylabel('Inertia')\n",
    "plt.title('Elbow Method')\n",
    "plt.show()\n"
   ],
   "id": "e213ebaf1c967fac",
   "outputs": [
    {
     "data": {
      "text/plain": [
       "<Figure size 640x480 with 1 Axes>"
      ],
      "image/png": "[encoded data removed]"
     },
     "metadata": {},
     "output_type": "display_data"
    }
   ],
   "execution_count": 153
  },
  {
   "metadata": {
    "ExecuteTime": {
     "end_time": "2025-10-27T01:53:00.793100Z",
     "start_time": "2025-10-27T01:52:45.220603Z"
    }
   },
   "cell_type": "code",
   "source": [
    "from sklearn.metrics import silhouette_score\n",
    "\n",
    "for k in range(2, 11):\n",
    "    kmeans = KMeans(n_clusters=k, random_state=42)\n",
    "    labels = kmeans.fit_predict(newdata)\n",
    "    score = silhouette_score(newdata, labels)\n",
    "    print(f\"k={k}, silhouette={score:.3f}\")\n"
   ],
   "id": "872147d29797ac69",
   "outputs": [
    {
     "name": "stdout",
     "output_type": "stream",
     "text": [
      "k=2, silhouette=0.139\n",
      "k=3, silhouette=0.123\n",
      "k=4, silhouette=0.115\n",
      "k=5, silhouette=0.092\n",
      "k=6, silhouette=0.079\n",
      "k=7, silhouette=0.083\n",
      "k=8, silhouette=0.079\n",
      "k=9, silhouette=0.077\n",
      "k=10, silhouette=0.073\n"
     ]
    }
   ],
   "execution_count": 154
  },
  {
   "metadata": {
    "ExecuteTime": {
     "end_time": "2025-10-27T01:51:33.781679Z",
     "start_time": "2025-10-27T01:51:33.760533Z"
    }
   },
   "cell_type": "code",
   "source": [
    "correlation_matrix = data.corr(numeric_only=True)\n",
    "high_corr = correlation_matrix[((correlation_matrix > 0.3) | (correlation_matrix < -0.3))& (correlation_matrix < 1)]\n",
    "#print(high_corr.dropna(how='all').dropna(axis=1, how='all')) #all correlations above abs(0.7)\n",
    "print(correlation_matrix)\n"
   ],
   "id": "b13dc739246fcac0",
   "outputs": [
    {
     "name": "stdout",
     "output_type": "stream",
     "text": [
      "                         Administrative  Administrative_Duration  \\\n",
      "Administrative                 1.000000                 0.601583   \n",
      "Administrative_Duration        0.601583                 1.000000   \n",
      "Informational                  0.376850                 0.302710   \n",
      "Informational_Duration         0.255848                 0.238031   \n",
      "ProductRelated                 0.431119                 0.289087   \n",
      "ProductRelated_Duration        0.373939                 0.355422   \n",
      "BounceRates                   -0.223563                -0.144170   \n",
      "ExitRates                     -0.316483                -0.205798   \n",
      "PageValues                     0.098990                 0.067608   \n",
      "SpecialDay                    -0.094778                -0.073304   \n",
      "OperatingSystems              -0.006347                -0.007343   \n",
      "Browser                       -0.025035                -0.015392   \n",
      "Region                        -0.005487                -0.005561   \n",
      "TrafficType                   -0.033561                -0.014376   \n",
      "Weekend                        0.026417                 0.014990   \n",
      "Revenue                        0.138917                 0.093587   \n",
      "Total_Duration                 0.421019                 0.436962   \n",
      "Average_Time_Per_Page          0.004356                 0.137035   \n",
      "\n",
      "                         Informational  Informational_Duration  \\\n",
      "Administrative                0.376850                0.255848   \n",
      "Administrative_Duration       0.302710                0.238031   \n",
      "Informational                 1.000000                0.618955   \n",
      "Informational_Duration        0.618955                1.000000   \n",
      "ProductRelated                0.374164                0.280046   \n",
      "ProductRelated_Duration       0.387505                0.347364   \n",
      "BounceRates                  -0.116114               -0.074067   \n",
      "ExitRates                    -0.163666               -0.105276   \n",
      "PageValues                    0.048632                0.030861   \n",
      "SpecialDay                   -0.048219               -0.030577   \n",
      "OperatingSystems             -0.009527               -0.009579   \n",
      "Browser                      -0.038235               -0.019285   \n",
      "Region                       -0.029169               -0.027144   \n",
      "TrafficType                  -0.034491               -0.024675   \n",
      "Weekend                       0.035785                0.024078   \n",
      "Revenue                       0.095200                0.070345   \n",
      "Total_Duration                0.432911                0.415922   \n",
      "Average_Time_Per_Page         0.053109                0.126892   \n",
      "\n",
      "                         ProductRelated  ProductRelated_Duration  BounceRates  \\\n",
      "Administrative                 0.431119                 0.373939    -0.223563   \n",
      "Administrative_Duration        0.289087                 0.355422    -0.144170   \n",
      "Informational                  0.374164                 0.387505    -0.116114   \n",
      "Informational_Duration         0.280046                 0.347364    -0.074067   \n",
      "ProductRelated                 1.000000                 0.860927    -0.204578   \n",
      "ProductRelated_Duration        0.860927                 1.000000    -0.184541   \n",
      "BounceRates                   -0.204578                -0.184541     1.000000   \n",
      "ExitRates                     -0.292526                -0.251984     0.913004   \n",
      "PageValues                     0.056282                 0.052823    -0.119386   \n",
      "SpecialDay                    -0.023958                -0.036380     0.072702   \n",
      "OperatingSystems               0.004290                 0.002976     0.023823   \n",
      "Browser                       -0.013146                -0.007380    -0.015772   \n",
      "Region                        -0.038122                -0.033091    -0.006485   \n",
      "TrafficType                   -0.043064                -0.036377     0.078286   \n",
      "Weekend                        0.016092                 0.007311    -0.046514   \n",
      "Revenue                        0.158538                 0.152373    -0.150673   \n",
      "Total_Duration                 0.852904                 0.993910    -0.190922   \n",
      "Average_Time_Per_Page          0.000392                 0.207024    -0.192814   \n",
      "\n",
      "                         ExitRates  PageValues  SpecialDay  OperatingSystems  \\\n",
      "Administrative           -0.316483    0.098990   -0.094778         -0.006347   \n",
      "Administrative_Duration  -0.205798    0.067608   -0.073304         -0.007343   \n",
      "Informational            -0.163666    0.048632   -0.048219         -0.009527   \n",
      "Informational_Duration   -0.105276    0.030861   -0.030577         -0.009579   \n",
      "ProductRelated           -0.292526    0.056282   -0.023958          0.004290   \n",
      "ProductRelated_Duration  -0.251984    0.052823   -0.036380          0.002976   \n",
      "BounceRates               0.913004   -0.119386    0.072702          0.023823   \n",
      "ExitRates                 1.000000   -0.174498    0.102242          0.014567   \n",
      "PageValues               -0.174498    1.000000   -0.063541          0.018508   \n",
      "SpecialDay                0.102242   -0.063541    1.000000          0.012652   \n",
      "OperatingSystems          0.014567    0.018508    0.012652          1.000000   \n",
      "Browser                  -0.004442    0.045592    0.003499          0.223013   \n",
      "Region                   -0.008907    0.011315   -0.016098          0.076775   \n",
      "TrafficType               0.078616    0.012532    0.052301          0.189154   \n",
      "Weekend                  -0.062587    0.012002   -0.016767          0.000284   \n",
      "Revenue                  -0.207071    0.492569   -0.082305         -0.014668   \n",
      "Total_Duration           -0.261759    0.057602   -0.042635          0.001496   \n",
      "Average_Time_Per_Page    -0.160170    0.040161   -0.034559          0.019201   \n",
      "\n",
      "                          Browser    Region  TrafficType   Weekend   Revenue  \\\n",
      "Administrative          -0.025035 -0.005487    -0.033561  0.026417  0.138917   \n",
      "Administrative_Duration -0.015392 -0.005561    -0.014376  0.014990  0.093587   \n",
      "Informational           -0.038235 -0.029169    -0.034491  0.035785  0.095200   \n",
      "Informational_Duration  -0.019285 -0.027144    -0.024675  0.024078  0.070345   \n",
      "ProductRelated          -0.013146 -0.038122    -0.043064  0.016092  0.158538   \n",
      "ProductRelated_Duration -0.007380 -0.033091    -0.036377  0.007311  0.152373   \n",
      "BounceRates             -0.015772 -0.006485     0.078286 -0.046514 -0.150673   \n",
      "ExitRates               -0.004442 -0.008907     0.078616 -0.062587 -0.207071   \n",
      "PageValues               0.045592  0.011315     0.012532  0.012002  0.492569   \n",
      "SpecialDay               0.003499 -0.016098     0.052301 -0.016767 -0.082305   \n",
      "OperatingSystems         0.223013  0.076775     0.189154  0.000284 -0.014668   \n",
      "Browser                  1.000000  0.097393     0.111938 -0.040261  0.023984   \n",
      "Region                   0.097393  1.000000     0.047520 -0.000691 -0.011595   \n",
      "TrafficType              0.111938  0.047520     1.000000 -0.002221 -0.005113   \n",
      "Weekend                 -0.040261 -0.000691    -0.002221  1.000000  0.029295   \n",
      "Revenue                  0.023984 -0.011595    -0.005113  0.029295  1.000000   \n",
      "Total_Duration          -0.009598 -0.033432    -0.037113  0.009829  0.156068   \n",
      "Average_Time_Per_Page    0.007593  0.009086     0.002416 -0.010660  0.041746   \n",
      "\n",
      "                         Total_Duration  Average_Time_Per_Page  \n",
      "Administrative                 0.421019               0.004356  \n",
      "Administrative_Duration        0.436962               0.137035  \n",
      "Informational                  0.432911               0.053109  \n",
      "Informational_Duration         0.415922               0.126892  \n",
      "ProductRelated                 0.852904               0.000392  \n",
      "ProductRelated_Duration        0.993910               0.207024  \n",
      "BounceRates                   -0.190922              -0.192814  \n",
      "ExitRates                     -0.261759              -0.160170  \n",
      "PageValues                     0.057602               0.040161  \n",
      "SpecialDay                    -0.042635              -0.034559  \n",
      "OperatingSystems               0.001496               0.019201  \n",
      "Browser                       -0.009598               0.007593  \n",
      "Region                        -0.033432               0.009086  \n",
      "TrafficType                   -0.037113               0.002416  \n",
      "Weekend                        0.009829              -0.010660  \n",
      "Revenue                        0.156068               0.041746  \n",
      "Total_Duration                 1.000000               0.215065  \n",
      "Average_Time_Per_Page          0.215065               1.000000  \n"
     ]
    }
   ],
   "execution_count": 150
  },
  {
   "metadata": {
    "ExecuteTime": {
     "end_time": "2025-10-27T01:51:33.826745Z",
     "start_time": "2025-10-27T01:51:33.825284Z"
    }
   },
   "cell_type": "code",
   "source": "",
   "id": "feaf0e390eb31d04",
   "outputs": [],
   "execution_count": null
  },
  {
   "metadata": {
    "ExecuteTime": {
     "end_time": "2025-10-27T01:51:57.981577Z",
     "start_time": "2025-10-27T01:51:57.884578Z"
    }
   },
   "cell_type": "code",
   "source": "makeFreqGraph(data[data['Revenue'] == True], \"Month\")",
   "id": "157e07f2a9a5a441",
   "outputs": [
    {
     "data": {
      "text/plain": [
       "<Figure size 640x480 with 1 Axes>"
      ],
      "image/png": "[encoded data removed]"
     },
     "metadata": {},
     "output_type": "display_data"
    }
   ],
   "execution_count": 152
  },
  {
   "metadata": {
    "ExecuteTime": {
     "end_time": "2025-10-27T01:51:33.956081800Z",
     "start_time": "2025-10-27T01:36:36.583140Z"
    }
   },
   "cell_type": "code",
   "source": "print(newdata['Revenue'].value_counts(normalize=True)) #uncleaned data\n",
   "id": "79c0c5d546c40d79",
   "outputs": [
    {
     "name": "stdout",
     "output_type": "stream",
     "text": [
      "Revenue\n",
      "False    0.843671\n",
      "True     0.156329\n",
      "Name: proportion, dtype: float64\n"
     ]
    }
   ],
   "execution_count": 109
  },
  {
   "metadata": {
    "ExecuteTime": {
     "end_time": "2025-10-27T01:51:33.957077500Z",
     "start_time": "2025-10-27T01:36:36.632352Z"
    }
   },
   "cell_type": "code",
   "source": "",
   "id": "dc825c90d3b4a3b8",
   "outputs": [],
   "execution_count": null
  }
 ],
 "metadata": {
  "kernelspec": {
   "display_name": "Python 3",
   "language": "python",
   "name": "python3"
  },
  "language_info": {
   "codemirror_mode": {
    "name": "ipython",
    "version": 2
   },
   "file_extension": ".py",
   "mimetype": "text/x-python",
   "name": "python",
   "nbconvert_exporter": "python",
   "pygments_lexer": "ipython2",
   "version": "2.7.6"
  }
 },
 "nbformat": 4,
 "nbformat_minor": 5
}
